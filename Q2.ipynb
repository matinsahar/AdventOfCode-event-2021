{
 "cells": [
  {
   "cell_type": "code",
   "execution_count": 7,
   "id": "a2d6a5aa-6861-4e28-8b6f-cf1a359076e8",
   "metadata": {},
   "outputs": [
    {
     "name": "stdout",
     "output_type": "stream",
     "text": [
      "2086261056\n"
     ]
    }
   ],
   "source": [
    "a_file = open(\"Q2.txt\")\n",
    "file_contents = a_file.read()\n",
    "data = file_contents.splitlines()\n",
    "type(data[1])\n",
    "h = 0\n",
    "v = 0\n",
    "aim = 0\n",
    "for d in data:\n",
    "    if d[0] == \"f\" :\n",
    "        h+= int(d[8])\n",
    "        v+= aim* int(d[8])\n",
    "    elif d[0] == \"d\" :\n",
    "        aim+= int(d[5])\n",
    "    else:\n",
    "        aim-= int(d[3])\n",
    "print(v*h)\n",
    "\n",
    "        \n",
    "        \n"
   ]
  },
  {
   "cell_type": "code",
   "execution_count": null,
   "id": "6229a9cb-56aa-48ba-afee-96eb552cfe7c",
   "metadata": {},
   "outputs": [],
   "source": []
  }
 ],
 "metadata": {
  "kernelspec": {
   "display_name": "Python 3 (ipykernel)",
   "language": "python",
   "name": "python3"
  },
  "language_info": {
   "codemirror_mode": {
    "name": "ipython",
    "version": 3
   },
   "file_extension": ".py",
   "mimetype": "text/x-python",
   "name": "python",
   "nbconvert_exporter": "python",
   "pygments_lexer": "ipython3",
   "version": "3.9.6"
  }
 },
 "nbformat": 4,
 "nbformat_minor": 5
}
