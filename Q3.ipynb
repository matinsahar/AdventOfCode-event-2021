{
 "cells": [
  {
   "cell_type": "code",
   "execution_count": 70,
   "id": "3b07db02-e594-4766-b5aa-74430efddafc",
   "metadata": {
    "tags": []
   },
   "outputs": [
    {
     "name": "stdout",
     "output_type": "stream",
     "text": [
      "10\n",
      "['100111011110']\n",
      "7\n",
      "['010010100000']\n",
      "2990784\n"
     ]
    }
   ],
   "source": [
    "a_file = open(\"Q3.txt\")\n",
    "file_contents = a_file.read()\n",
    "data = file_contents.splitlines()\n",
    "eps = \"\"\n",
    "gamma = \"\"\n",
    "ox = list(data)\n",
    "co = list(data)\n",
    "for j in range(len(data[0])):\n",
    "    ones = 0\n",
    "    zeros = 0\n",
    "    on=[]\n",
    "    ze=[]\n",
    "    oxx = list()\n",
    "    for d in ox :\n",
    "        if( d[j] == '1'):\n",
    "            ones += 1\n",
    "            on.append(d)\n",
    "        else:\n",
    "            zeros+=1\n",
    "            ze.append(d)\n",
    "    if zeros <= ones:\n",
    "        eps +='1'\n",
    "        ox = on\n",
    "    else:\n",
    "        eps += '0'  \n",
    "        ox = ze\n",
    "    if len(ox) == 1 :\n",
    "        print(j)\n",
    "        break\n",
    "print (ox)\n",
    "for j in range(len(data[0])):\n",
    "    ones = 0\n",
    "    zeros = 0\n",
    "    on=[]\n",
    "    ze=[]\n",
    "    oxx = list()\n",
    "    for d in co :\n",
    "        if( d[j] == '1'):\n",
    "            ones += 1\n",
    "            on.append(d)\n",
    "        else:\n",
    "            zeros+=1\n",
    "            ze.append(d)\n",
    "    if zeros <= ones:\n",
    "        eps +='0'\n",
    "        co = ze\n",
    "    else:\n",
    "        eps += '1'  \n",
    "        co = on\n",
    "    if len(co) == 1 :\n",
    "        print(j)\n",
    "        break\n",
    "print(coo)\n",
    "\n",
    "print( int(co[0],2) * int(ox[0],2))\n",
    "    \n",
    "    "
   ]
  },
  {
   "cell_type": "code",
   "execution_count": null,
   "id": "99f03d89-ca39-41a1-a122-31a9f57c0f7d",
   "metadata": {},
   "outputs": [],
   "source": []
  }
 ],
 "metadata": {
  "kernelspec": {
   "display_name": "Python 3 (ipykernel)",
   "language": "python",
   "name": "python3"
  },
  "language_info": {
   "codemirror_mode": {
    "name": "ipython",
    "version": 3
   },
   "file_extension": ".py",
   "mimetype": "text/x-python",
   "name": "python",
   "nbconvert_exporter": "python",
   "pygments_lexer": "ipython3",
   "version": "3.9.6"
  }
 },
 "nbformat": 4,
 "nbformat_minor": 5
}
