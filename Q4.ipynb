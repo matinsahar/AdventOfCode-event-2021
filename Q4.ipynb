{
 "cells": [
  {
   "cell_type": "code",
   "execution_count": 171,
   "id": "30566315-6ca9-4586-9f0a-0a5f74856e4f",
   "metadata": {},
   "outputs": [
    {
     "name": "stdout",
     "output_type": "stream",
     "text": [
      "38913 51\n",
      "[4, 75, 74, 31, 76, 79, 27, 19, 69, 46, 98, 59, 83, 23, 90, 52, 87, 6, 11, 92, 80, 51, 43, 5, 94, 17, 15, 67, 25, 30, 48, 47, 62, 71, 85, 58, 60, 1, 72, 99, 3, 35, 42, 10, 96, 49, 37, 36, 8, 44, 70, 40, 45, 39, 0, 63, 2, 78, 68, 53, 50, 77, 20, 55, 38, 86, 54, 93, 26, 88, 12, 91, 95, 34, 9, 14, 33, 66, 41, 13, 28, 57, 29, 73, 56, 22, 89, 21, 64, 61, 32, 65, 97, 84, 18, 82, 81, 7, 16, 24]\n"
     ]
    }
   ],
   "source": [
    "import numpy as np\n",
    "\n",
    "with open('Q4.txt') as file:\n",
    "    numbers, *boards = file.read().rstrip().split('\\n\\n')\n",
    "    numbers = [int(num) for num in numbers.split(',')]\n",
    "    boards = [[[int(i) for i in line.split()] for line in board.split('\\n')] for board in boards]\n",
    "cards = list(boards)\n",
    "\n",
    "def checkwin(tt):\n",
    "    for row in tt:\n",
    "        if sum(row) ==500:\n",
    "            return True\n",
    "    transposed = np.array(tt).T.tolist()#transpose using numpy and back to list to check sum of columns\n",
    "    for i in transposed:\n",
    "        if sum(i) == 500:\n",
    "            return True\n",
    "\n",
    "        \n",
    "        \n",
    "won = False     \n",
    "score = 0\n",
    "for num in numbers:\n",
    "    for card in cards:\n",
    "        for i in range(len(card)):\n",
    "            card[i] = [100 if i==num else i for i in card[i]]  # if num is in board we replace it with zero for every\n",
    "        if checkwin(card):\n",
    "            for row in card:\n",
    "                for y in row:\n",
    "                    if y!= 100:\n",
    "                        score += y\n",
    "            won = True\n",
    "            print(num*score,num)\n",
    "            break\n",
    "    if won == True:\n",
    "        break\n",
    "\n",
    "        \n",
    "        \n"
   ]
  },
  {
   "cell_type": "markdown",
   "id": "9e0cc0b3-84d5-4c15-8b47-60d8b35d2da9",
   "metadata": {},
   "source": [
    "## part 2\n"
   ]
  },
  {
   "cell_type": "code",
   "execution_count": 178,
   "id": "87fc8604-1504-484b-a735-cd473c38db00",
   "metadata": {},
   "outputs": [
    {
     "name": "stdout",
     "output_type": "stream",
     "text": [
      "[[100, 32, 100, 100, 100], [100, 100, 100, 100, 82], [100, 100, 97, 100, 100], [100, 100, 56, 100, 100], [100, 100, 100, 65, 100]]\n",
      "[(51, 763), (48, 810), (62, 766), (71, 625), (71, 570), (85, 658), (60, 739), (60, 686), (60, 668), (1, 538), (1, 649), (72, 651), (99, 702), (3, 638), (35, 508), (35, 484), (42, 547), (42, 409), (49, 468), (49, 553), (36, 585), (44, 543), (44, 543), (44, 465), (44, 506), (70, 694), (70, 598), (70, 516), (40, 579), (40, 705), (45, 537), (45, 479), (45, 385), (39, 578), (0, 373), (0, 525), (0, 546), (0, 561), (0, 437), (63, 704), (63, 674), (63, 487), (2, 390), (78, 639), (78, 650), (68, 515), (68, 425), (68, 556), (53, 481), (53, 391), (50, 545), (50, 477), (50, 317), (50, 647), (50, 425), (50, 560), (77, 474), (77, 458), (77, 336), (77, 434), (20, 694), (20, 715), (20, 398), (55, 521), (55, 525), (38, 513), (38, 302), (86, 322), (86, 408), (86, 353), (86, 443), (54, 551), (54, 426), (54, 476), (54, 403), (93, 261), (26, 458), (26, 384), (26, 244), (88, 227), (88, 442), (12, 501), (12, 318), (12, 434), (12, 537), (91, 278), (91, 490), (95, 327), (34, 366), (14, 308), (14, 480), (14, 422), (33, 284), (66, 299), (28, 393), (28, 232), (57, 422), (73, 217), (56, 308), (61, 332)] 100\n"
     ]
    }
   ],
   "source": [
    "import numpy as np\n",
    "\n",
    "with open('Q4.txt') as file:\n",
    "    numbers, *boards = file.read().rstrip().split('\\n\\n')\n",
    "    numbers = [int(num) for num in numbers.split(',')]\n",
    "    boards = [[[int(i) for i in line.split()] for line in board.split('\\n')] for board in boards]\n",
    "cards = list(boards)\n",
    "\n",
    "def checkwin(tt):\n",
    "    for row in tt:\n",
    "        if sum(row) ==500:\n",
    "            return True\n",
    "    transposed = np.array(tt).T.tolist()#transpose using numpy and back to list to check sum of columns\n",
    "    for i in transposed:\n",
    "        if sum(i) == 500:\n",
    "            return True\n",
    "won = False     \n",
    "games = list(boards)\n",
    "winners = []\n",
    "for num in numbers:\n",
    "    for game in games:\n",
    "        scoree = 0\n",
    "        for i in range(5):\n",
    "            game[i] = [100 if i==num else i for i in game[i]]  # if num is in board we replace it with zero for every\n",
    "        if checkwin(game) :\n",
    "            for row in game:\n",
    "                for y in row:\n",
    "                    if y!= 100:\n",
    "                        scoree += y\n",
    "                        won = True\n",
    "            games.remove(game)\n",
    "            #print(len(games),num)\n",
    "            winners.append((num,scoree))\n",
    "            if(len(games) < 1):\n",
    "                print (game,)\n",
    "print(winners , len(winners))\n",
    "#answer is (332-56)*61\n",
    "#56 in the last winning board is not deleted and i dont know why i checked the code for an hour :) but by deleting 56 manually and calcualting the right answer is achieved"
   ]
  },
  {
   "cell_type": "code",
   "execution_count": null,
   "id": "7f282cb7-481e-42d7-969e-1acc2445026a",
   "metadata": {},
   "outputs": [],
   "source": []
  },
  {
   "cell_type": "code",
   "execution_count": null,
   "id": "8a2f3dc8-82e9-4bf7-a8f9-969fd0770ee7",
   "metadata": {},
   "outputs": [],
   "source": []
  }
 ],
 "metadata": {
  "kernelspec": {
   "display_name": "Python 3 (ipykernel)",
   "language": "python",
   "name": "python3"
  },
  "language_info": {
   "codemirror_mode": {
    "name": "ipython",
    "version": 3
   },
   "file_extension": ".py",
   "mimetype": "text/x-python",
   "name": "python",
   "nbconvert_exporter": "python",
   "pygments_lexer": "ipython3",
   "version": "3.9.6"
  }
 },
 "nbformat": 4,
 "nbformat_minor": 5
}
