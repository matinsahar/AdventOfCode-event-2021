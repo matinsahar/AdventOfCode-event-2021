{
 "cells": [
  {
   "cell_type": "code",
   "execution_count": 8,
   "id": "978c1018-3bf4-4bfa-bb01-89ce09005697",
   "metadata": {},
   "outputs": [
    {
     "name": "stdout",
     "output_type": "stream",
     "text": [
      "353079\n"
     ]
    }
   ],
   "source": [
    "\n",
    "import csv\n",
    "with open('Q6.txt') as file:\n",
    "    lanterns = file.read().rstrip()\n",
    "    lanterns = [int(lan) for lan in lanterns.split(',')]\n",
    "\n",
    "days = 80\n",
    "growth = [len(lanterns)]\n",
    "\n",
    "for d in range(days):\n",
    "    for i in range(len(lanterns)):\n",
    "        if lanterns[i] != 0:\n",
    "            lanterns[i] -= 1\n",
    "        else:\n",
    "            lanterns[i] = 6\n",
    "            lanterns.append(8)\n",
    "    growth.append(len(lanterns))\n",
    "    \n",
    "# f = open('q6-out.csv', 'w')\n",
    "\n",
    "# # # create the csv writer\n",
    "# writer = csv.writer(f)\n",
    "\n",
    "# # write a row to the csv file\n",
    "# writer.writerow(growth)\n",
    "\n",
    "# # close the file\n",
    "# f.close()\n",
    "# print(len(lanterns))\n",
    "            \n",
    "        "
   ]
  },
  {
   "cell_type": "markdown",
   "id": "729483f4-f4d2-406b-8457-5897a55beaca",
   "metadata": {},
   "source": [
    "## for part 2 the above solution takes too much time and memory\n"
   ]
  },
  {
   "cell_type": "code",
   "execution_count": 9,
   "id": "9bb6c17d-181a-4469-849e-978c72344f5d",
   "metadata": {},
   "outputs": [
    {
     "name": "stdout",
     "output_type": "stream",
     "text": [
      "353079\n",
      "1605400130036\n"
     ]
    }
   ],
   "source": [
    "with open('Q6.txt') as file:\n",
    "    lanterns = file.read().rstrip()\n",
    "\n",
    "counts = [lanterns.count(str(i)) for i in range(10)]\n",
    "\n",
    "def step(counts):#\n",
    "    result = [0] * 9\n",
    "    result[6] = result[8] = counts[0]\n",
    "    for i in range(8):\n",
    "        result[i] += counts[i + 1]\n",
    "    return result\n",
    "\n",
    "def run(counts, n):\n",
    "    for _ in range(n):\n",
    "        counts = step(counts)\n",
    "    return sum(counts)\n",
    "\n",
    "print(run(counts, 80))\n",
    "print(run(counts, 256))"
   ]
  },
  {
   "cell_type": "code",
   "execution_count": null,
   "id": "e3867c9c-c1b9-4b25-bec7-b2a5261b0cd5",
   "metadata": {},
   "outputs": [],
   "source": []
  }
 ],
 "metadata": {
  "kernelspec": {
   "display_name": "Python 3 (ipykernel)",
   "language": "python",
   "name": "python3"
  },
  "language_info": {
   "codemirror_mode": {
    "name": "ipython",
    "version": 3
   },
   "file_extension": ".py",
   "mimetype": "text/x-python",
   "name": "python",
   "nbconvert_exporter": "python",
   "pygments_lexer": "ipython3",
   "version": "3.9.6"
  }
 },
 "nbformat": 4,
 "nbformat_minor": 5
}
